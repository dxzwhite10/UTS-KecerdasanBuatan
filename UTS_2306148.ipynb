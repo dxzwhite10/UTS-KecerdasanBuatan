{
  "nbformat": 4,
  "nbformat_minor": 0,
  "metadata": {
    "colab": {
      "provenance": [],
      "authorship_tag": "ABX9TyOJHMyyi6ieQ4qNjp2sC23f",
      "include_colab_link": true
    },
    "kernelspec": {
      "name": "python3",
      "display_name": "Python 3"
    },
    "language_info": {
      "name": "python"
    }
  },
  "cells": [
    {
      "cell_type": "markdown",
      "metadata": {
        "id": "view-in-github",
        "colab_type": "text"
      },
      "source": [
        "<a href=\"https://colab.research.google.com/github/dxzwhite10/UTS_2306148/blob/main/UTS_2306148.ipynb\" target=\"_parent\"><img src=\"https://colab.research.google.com/assets/colab-badge.svg\" alt=\"Open In Colab\"/></a>"
      ]
    },
    {
      "cell_type": "markdown",
      "source": [
        "1. BFS"
      ],
      "metadata": {
        "id": "rz_iUaRyfW8V"
      }
    },
    {
      "cell_type": "markdown",
      "source": [
        "a"
      ],
      "metadata": {
        "id": "-oqF4iNafuOV"
      }
    },
    {
      "cell_type": "code",
      "execution_count": null,
      "metadata": {
        "colab": {
          "base_uri": "https://localhost:8080/"
        },
        "id": "l8eHreQTcKdl",
        "outputId": "52502b46-4111-46dd-8136-3ca1b5e3e8ab"
      },
      "outputs": [
        {
          "output_type": "stream",
          "name": "stdout",
          "text": [
            "Hasil penelusuran BFS dimulai dari node 1:\n",
            "1  2  3  4  5  "
          ]
        }
      ],
      "source": [
        "import collections\n",
        "# BFS algorithm\n",
        "def bfs(graph, root):\n",
        "    visited, queue = set(), collections.deque([root])\n",
        "    visited.add(root)\n",
        "\n",
        "    while queue:\n",
        "        # Dequeue a vertex from queue\n",
        "        vertex = queue.popleft()  # Menggunakan popleft() yang benar\n",
        "        print(str(vertex) + \" \", end=\" \")\n",
        "\n",
        "        # Jika belum dikunjungi, tandai sebagai dikunjungi dan enqueue\n",
        "        for neighbour in graph[vertex]:\n",
        "            if neighbour not in visited:  # Perbaikan ejaan \"visisted\" → \"visited\"\n",
        "                visited.add(neighbour)\n",
        "                queue.append(neighbour)\n",
        "\n",
        "if __name__ == '__main__':\n",
        "    graph = {\n",
        "        1: [2],\n",
        "        2: [3],\n",
        "        3: [4],\n",
        "        4: [5],\n",
        "        5: [1]\n",
        "    }\n",
        "\n",
        "    print(\"Hasil penelusuran BFS dimulai dari node 1:\")\n",
        "    bfs(graph, 1)"
      ]
    },
    {
      "cell_type": "markdown",
      "source": [
        "b."
      ],
      "metadata": {
        "id": "W0m-FRAtgaLY"
      }
    },
    {
      "cell_type": "code",
      "source": [
        "import collections\n",
        "# BFS algorithm\n",
        "def bfs(graph, root):\n",
        "    visited, queue = set(), collections.deque([root])\n",
        "    visited.add(root)\n",
        "\n",
        "    while queue:\n",
        "        # Dequeue a vertex from queue\n",
        "        vertex = queue.popleft()  # Menggunakan popleft() yang benar\n",
        "        print(str(vertex) + \" \", end=\" \")\n",
        "\n",
        "        # Jika belum dikunjungi, tandai sebagai dikunjungi dan enqueue\n",
        "        for neighbour in graph[vertex]:\n",
        "            if neighbour not in visited:  # Perbaikan ejaan \"visisted\" → \"visited\"\n",
        "                visited.add(neighbour)\n",
        "                queue.append(neighbour)\n",
        "\n",
        "if __name__ == '__main__':\n",
        "    graph = {\n",
        "        1: [2,3,4,5,6],\n",
        "        2: [1],\n",
        "        3: [1],\n",
        "        4: [1],\n",
        "        5: [1],\n",
        "        6: [1]\n",
        "    }\n",
        "\n",
        "    print(\"Hasil penelusuran BFS dimulai dari node 1:\")\n",
        "    bfs(graph, 1)"
      ],
      "metadata": {
        "colab": {
          "base_uri": "https://localhost:8080/"
        },
        "id": "sXmO1k0wgXbI",
        "outputId": "cfc74051-ce77-4da6-c087-1943c51ede4d"
      },
      "execution_count": null,
      "outputs": [
        {
          "output_type": "stream",
          "name": "stdout",
          "text": [
            "Hasil penelusuran BFS dimulai dari node 1:\n",
            "1  2  3  4  5  6  "
          ]
        }
      ]
    },
    {
      "cell_type": "markdown",
      "source": [
        "c."
      ],
      "metadata": {
        "id": "G-zd9yIohMFj"
      }
    },
    {
      "cell_type": "code",
      "source": [
        "import collections\n",
        "# BFS algorithm\n",
        "def bfs(graph, root):\n",
        "    visited, queue = set(), collections.deque([root])\n",
        "    visited.add(root)\n",
        "\n",
        "    while queue:\n",
        "        # Dequeue a vertex from queue\n",
        "        vertex = queue.popleft()  # Menggunakan popleft() yang benar\n",
        "        print(str(vertex) + \" \", end=\" \")\n",
        "\n",
        "        # Jika belum dikunjungi, tandai sebagai dikunjungi dan enqueue\n",
        "        for neighbour in graph[vertex]:\n",
        "            if neighbour not in visited:  # Perbaikan ejaan \"visisted\" → \"visited\"\n",
        "                visited.add(neighbour)\n",
        "                queue.append(neighbour)\n",
        "\n",
        "if __name__ == '__main__':\n",
        "    graph = {\n",
        "        1: [2],\n",
        "        2: [3],\n",
        "        3: [4,1],\n",
        "        4: [5],\n",
        "        5: [1]\n",
        "    }\n",
        "\n",
        "    print(\"Hasil penelusuran BFS dimulai dari node 1:\")\n",
        "    bfs(graph, 1)"
      ],
      "metadata": {
        "colab": {
          "base_uri": "https://localhost:8080/"
        },
        "id": "TK5_svDUhN-a",
        "outputId": "e6bc86fa-afba-46db-8984-4dadfc2ca065"
      },
      "execution_count": null,
      "outputs": [
        {
          "output_type": "stream",
          "name": "stdout",
          "text": [
            "Hasil penelusuran BFS dimulai dari node 1:\n",
            "1  2  3  4  5  "
          ]
        }
      ]
    },
    {
      "cell_type": "markdown",
      "source": [
        "e."
      ],
      "metadata": {
        "id": "Kps1ET1nhyBC"
      }
    },
    {
      "cell_type": "code",
      "source": [
        "import collections\n",
        "# BFS algorithm\n",
        "def bfs(graph, root):\n",
        "    visited, queue = set(), collections.deque([root])\n",
        "    visited.add(root)\n",
        "\n",
        "    while queue:\n",
        "        # Dequeue a vertex from queue\n",
        "        vertex = queue.popleft()  # Menggunakan popleft() yang benar\n",
        "        print(str(vertex) + \" \", end=\" \")\n",
        "\n",
        "        # Jika belum dikunjungi, tandai sebagai dikunjungi dan enqueue\n",
        "        for neighbour in graph[vertex]:\n",
        "            if neighbour not in visited:  # Perbaikan ejaan \"visisted\" → \"visited\"\n",
        "                visited.add(neighbour)\n",
        "                queue.append(neighbour)\n",
        "\n",
        "if __name__ == '__main__':\n",
        "    graph = {\n",
        "        1: [3],\n",
        "        2: [4],\n",
        "        3: [5],\n",
        "        5: [2],\n",
        "        4: [1]\n",
        "    }\n",
        "\n",
        "    print(\"Hasil penelusuran BFS dimulai dari node 1:\")\n",
        "    bfs(graph, 1)"
      ],
      "metadata": {
        "colab": {
          "base_uri": "https://localhost:8080/"
        },
        "id": "w7EeuFH6hxho",
        "outputId": "5078bfb3-4a4c-4c8b-879e-da7be45bfee5"
      },
      "execution_count": null,
      "outputs": [
        {
          "output_type": "stream",
          "name": "stdout",
          "text": [
            "Hasil penelusuran BFS dimulai dari node 1:\n",
            "1  3  5  2  4  "
          ]
        }
      ]
    },
    {
      "cell_type": "markdown",
      "source": [
        "Soal 2"
      ],
      "metadata": {
        "id": "W0aTVLuEib3B"
      }
    },
    {
      "cell_type": "markdown",
      "source": [
        "a.Greedy"
      ],
      "metadata": {
        "id": "SDsisPsEiejG"
      }
    },
    {
      "cell_type": "code",
      "source": [
        "from queue import PriorityQueue\n",
        "\n",
        "# Fungsi untuk algoritma Greedy Search\n",
        "def greedy_search(graph, start, goal):\n",
        "    frontier = PriorityQueue()\n",
        "    frontier.put(start, 0)\n",
        "    explored = set()\n",
        "\n",
        "    while not frontier.empty():\n",
        "        current_node = frontier.get()  # Mengambil simpul dengan nilai prioritas terendah dari antrian\n",
        "\n",
        "        if current_node == goal:\n",
        "            print(\"Simpul tujuan sudah ditemukan!\")\n",
        "            return True  # Mengembalikan True jika simpul tujuan sudah ditemukan\n",
        "\n",
        "        explored.add(current_node)  # Menandai simpul saat ini sebagai sudah dieksplorasi\n",
        "\n",
        "        for neighbor in graph[current_node]:\n",
        "            if neighbor not in explored:\n",
        "                priority = heuristic[neighbor]\n",
        "                frontier.put(neighbor, priority)  # Menambahkan simpul tetangga ke dalam antrian dengan nilai prioritas heuristik\n",
        "\n",
        "    print(\"Simpul tujuan tidak ditemukan!\")\n",
        "    return False\n",
        "\n",
        "    # Daftar heuristik untuk setiap simpul\n",
        "heuristic = {\n",
        "    'A': 7,\n",
        "    'B': 6,\n",
        "    'C': 5,\n",
        "    'D': 4,\n",
        "    'E': 3,\n",
        "    'F': 2,\n",
        "    'G': 0\n",
        "\n",
        "}\n",
        "\n",
        "# Graf (dalam bentuk daftar kejadian)\n",
        "graph = {\n",
        "    'A': {'B', 'C'},\n",
        "    'B': {'D'},\n",
        "    'C': {'E'},\n",
        "    'D': {'F'},\n",
        "    'E': {'F'},\n",
        "    'F': {'G'}\n",
        "}\n",
        "\n",
        "# Titik awal dan tujuan\n",
        "start_node = 'A'\n",
        "goal_node = 'G'\n",
        "\n",
        "# Panggil fungsi greedy search\n",
        "greedy_search(graph, start_node, goal_node)"
      ],
      "metadata": {
        "colab": {
          "base_uri": "https://localhost:8080/"
        },
        "id": "STJTtY_5igVg",
        "outputId": "369a3c3c-b1b2-4a08-ecbe-f33bf018c448"
      },
      "execution_count": null,
      "outputs": [
        {
          "output_type": "stream",
          "name": "stdout",
          "text": [
            "Simpul tujuan sudah ditemukan!\n"
          ]
        },
        {
          "output_type": "execute_result",
          "data": {
            "text/plain": [
              "True"
            ]
          },
          "metadata": {},
          "execution_count": 15
        }
      ]
    },
    {
      "cell_type": "markdown",
      "source": [
        "b. Greedy"
      ],
      "metadata": {
        "id": "DYpIG-ChkDxW"
      }
    },
    {
      "cell_type": "code",
      "source": [
        "from queue import PriorityQueue\n",
        "\n",
        "# Fungsi untuk algoritma Greedy Search\n",
        "def greedy_search(graph, start, goal):\n",
        "    frontier = PriorityQueue()\n",
        "    frontier.put(start, 0)\n",
        "    explored = set()\n",
        "\n",
        "    while not frontier.empty():\n",
        "        current_node = frontier.get()  # Mengambil simpul dengan nilai prioritas terendah dari antrian\n",
        "\n",
        "        if current_node == goal:\n",
        "            print(\"Simpul tujuan sudah ditemukan!\")\n",
        "            return True  # Mengembalikan True jika simpul tujuan sudah ditemukan\n",
        "\n",
        "        explored.add(current_node)  # Menandai simpul saat ini sebagai sudah dieksplorasi\n",
        "\n",
        "        for neighbor in graph[current_node]:\n",
        "            if neighbor not in explored:\n",
        "                priority = heuristic[neighbor]\n",
        "                frontier.put(neighbor, priority)  # Menambahkan simpul tetangga ke dalam antrian dengan nilai prioritas heuristik\n",
        "\n",
        "    print(\"Simpul tujuan tidak ditemukan!\")\n",
        "    return False\n",
        "\n",
        "    # Daftar heuristik untuk setiap simpul\n",
        "heuristic = {\n",
        "    'S': 7,\n",
        "    'A': 6,\n",
        "    'B': 5,\n",
        "    'C': 2,\n",
        "    'D': 3,\n",
        "    'E': 4,\n",
        "    'G': 0\n",
        "\n",
        "\n",
        "}\n",
        "\n",
        "# Graf (dalam bentuk daftar kejadian)\n",
        "graph = {\n",
        "    'S': {'A', 'B'},\n",
        "    'A': {'C','D'},\n",
        "    'C': {'G'},\n",
        "    'B': {'E'},\n",
        "    'E': {'G'},\n",
        "    'D': {'G'}\n",
        "}\n",
        "\n",
        "# Titik awal dan tujuan\n",
        "start_node = 'S'\n",
        "goal_node = 'G'\n",
        "\n",
        "# Panggil fungsi greedy search\n",
        "greedy_search(graph, start_node, goal_node)"
      ],
      "metadata": {
        "colab": {
          "base_uri": "https://localhost:8080/"
        },
        "id": "uzIuI9jgkG5d",
        "outputId": "3bd61437-79d9-48d3-b497-588ba59537c9"
      },
      "execution_count": null,
      "outputs": [
        {
          "output_type": "stream",
          "name": "stdout",
          "text": [
            "Simpul tujuan sudah ditemukan!\n"
          ]
        },
        {
          "output_type": "execute_result",
          "data": {
            "text/plain": [
              "True"
            ]
          },
          "metadata": {},
          "execution_count": 22
        }
      ]
    },
    {
      "cell_type": "markdown",
      "source": [
        "c.Greedy"
      ],
      "metadata": {
        "id": "Ql8GRTSjlCxQ"
      }
    },
    {
      "cell_type": "code",
      "source": [
        "from queue import PriorityQueue\n",
        "\n",
        "# Fungsi untuk algoritma Greedy Search\n",
        "def greedy_search(graph, start, goal):\n",
        "    frontier = PriorityQueue()\n",
        "    frontier.put(start, 0)\n",
        "    explored = set()\n",
        "\n",
        "    while not frontier.empty():\n",
        "        current_node = frontier.get()  # Mengambil simpul dengan nilai prioritas terendah dari antrian\n",
        "\n",
        "        if current_node == goal:\n",
        "            print(\"Simpul tujuan sudah ditemukan!\")\n",
        "            return True  # Mengembalikan True jika simpul tujuan sudah ditemukan\n",
        "\n",
        "        explored.add(current_node)  # Menandai simpul saat ini sebagai sudah dieksplorasi\n",
        "\n",
        "        for neighbor in graph[current_node]:\n",
        "            if neighbor not in explored:\n",
        "                priority = heuristic[neighbor]\n",
        "                frontier.put(neighbor, priority)  # Menambahkan simpul tetangga ke dalam antrian dengan nilai prioritas heuristik\n",
        "\n",
        "    print(\"Simpul tujuan tidak ditemukan!\")\n",
        "    return False\n",
        "\n",
        "    # Daftar heuristik untuk setiap simpul\n",
        "heuristic = {\n",
        "    'S': 6,\n",
        "    'A': 5,\n",
        "    'B': 5,\n",
        "    'D': 3,\n",
        "    'E': 4,\n",
        "    'F': 1,\n",
        "    'G': 0\n",
        "\n",
        "\n",
        "\n",
        "\n",
        "\n",
        "}\n",
        "\n",
        "# Graf (dalam bentuk daftar kejadian)\n",
        "graph = {\n",
        "    'S': {'A', 'B'},\n",
        "    'A': {'D'},\n",
        "    'B': {'E'},\n",
        "    'D': {'F'},\n",
        "    'F': {'G'}\n",
        "\n",
        "}\n",
        "\n",
        "# Titik awal dan tujuan\n",
        "start_node = 'S'\n",
        "goal_node = 'G'\n",
        "\n",
        "# Panggil fungsi greedy search\n",
        "greedy_search(graph, start_node, goal_node)"
      ],
      "metadata": {
        "colab": {
          "base_uri": "https://localhost:8080/",
          "height": 297
        },
        "id": "rbSBE7pblCWd",
        "outputId": "4bf90cd8-61f9-4d30-c066-8fe4c17ca531"
      },
      "execution_count": null,
      "outputs": [
        {
          "output_type": "error",
          "ename": "KeyError",
          "evalue": "'E'",
          "traceback": [
            "\u001b[0;31m---------------------------------------------------------------------------\u001b[0m",
            "\u001b[0;31mKeyError\u001b[0m                                  Traceback (most recent call last)",
            "\u001b[0;32m<ipython-input-24-82d61299d51e>\u001b[0m in \u001b[0;36m<cell line: 0>\u001b[0;34m()\u001b[0m\n\u001b[1;32m     55\u001b[0m \u001b[0;34m\u001b[0m\u001b[0m\n\u001b[1;32m     56\u001b[0m \u001b[0;31m# Panggil fungsi greedy search\u001b[0m\u001b[0;34m\u001b[0m\u001b[0;34m\u001b[0m\u001b[0m\n\u001b[0;32m---> 57\u001b[0;31m \u001b[0mgreedy_search\u001b[0m\u001b[0;34m(\u001b[0m\u001b[0mgraph\u001b[0m\u001b[0;34m,\u001b[0m \u001b[0mstart_node\u001b[0m\u001b[0;34m,\u001b[0m \u001b[0mgoal_node\u001b[0m\u001b[0;34m)\u001b[0m\u001b[0;34m\u001b[0m\u001b[0;34m\u001b[0m\u001b[0m\n\u001b[0m",
            "\u001b[0;32m<ipython-input-24-82d61299d51e>\u001b[0m in \u001b[0;36mgreedy_search\u001b[0;34m(graph, start, goal)\u001b[0m\n\u001b[1;32m     16\u001b[0m         \u001b[0mexplored\u001b[0m\u001b[0;34m.\u001b[0m\u001b[0madd\u001b[0m\u001b[0;34m(\u001b[0m\u001b[0mcurrent_node\u001b[0m\u001b[0;34m)\u001b[0m  \u001b[0;31m# Menandai simpul saat ini sebagai sudah dieksplorasi\u001b[0m\u001b[0;34m\u001b[0m\u001b[0;34m\u001b[0m\u001b[0m\n\u001b[1;32m     17\u001b[0m \u001b[0;34m\u001b[0m\u001b[0m\n\u001b[0;32m---> 18\u001b[0;31m         \u001b[0;32mfor\u001b[0m \u001b[0mneighbor\u001b[0m \u001b[0;32min\u001b[0m \u001b[0mgraph\u001b[0m\u001b[0;34m[\u001b[0m\u001b[0mcurrent_node\u001b[0m\u001b[0;34m]\u001b[0m\u001b[0;34m:\u001b[0m\u001b[0;34m\u001b[0m\u001b[0;34m\u001b[0m\u001b[0m\n\u001b[0m\u001b[1;32m     19\u001b[0m             \u001b[0;32mif\u001b[0m \u001b[0mneighbor\u001b[0m \u001b[0;32mnot\u001b[0m \u001b[0;32min\u001b[0m \u001b[0mexplored\u001b[0m\u001b[0;34m:\u001b[0m\u001b[0;34m\u001b[0m\u001b[0;34m\u001b[0m\u001b[0m\n\u001b[1;32m     20\u001b[0m                 \u001b[0mpriority\u001b[0m \u001b[0;34m=\u001b[0m \u001b[0mheuristic\u001b[0m\u001b[0;34m[\u001b[0m\u001b[0mneighbor\u001b[0m\u001b[0;34m]\u001b[0m\u001b[0;34m\u001b[0m\u001b[0;34m\u001b[0m\u001b[0m\n",
            "\u001b[0;31mKeyError\u001b[0m: 'E'"
          ]
        }
      ]
    }
  ]
}