{
  "nbformat": 4,
  "nbformat_minor": 0,
  "metadata": {
    "colab": {
      "provenance": [],
      "authorship_tag": "ABX9TyOMKC5eFu64FPYFzOxG3bik",
      "include_colab_link": true
    },
    "kernelspec": {
      "name": "python3",
      "display_name": "Python 3"
    },
    "language_info": {
      "name": "python"
    }
  },
  "cells": [
    {
      "cell_type": "markdown",
      "metadata": {
        "id": "view-in-github",
        "colab_type": "text"
      },
      "source": [
        "<a href=\"https://colab.research.google.com/github/dxzwhite10/UTS_2306148/blob/main/UTS_2306148Pakar.ipynb\" target=\"_parent\"><img src=\"https://colab.research.google.com/assets/colab-badge.svg\" alt=\"Open In Colab\"/></a>"
      ]
    },
    {
      "cell_type": "markdown",
      "source": [
        "Gondongan"
      ],
      "metadata": {
        "id": "8qcUF2HWq04r"
      }
    },
    {
      "cell_type": "code",
      "execution_count": 10,
      "metadata": {
        "colab": {
          "base_uri": "https://localhost:8080/"
        },
        "id": "kt6BzGQ9pK7o",
        "outputId": "6243b524-40b5-40f9-8a28-b094ee7f5d0e"
      },
      "outputs": [
        {
          "output_type": "stream",
          "name": "stdout",
          "text": [
            "CF diagnosis Gondongan: 0.95\n",
            "CF diagnosis IBS: 0.63\n",
            "CF diagnosis GERD: 0.69\n"
          ]
        }
      ],
      "source": [
        "\n",
        "# Data gejala yang dirasakan pengguna\n",
        "gejala_user = {\n",
        "    \"Demam\": 0.8,\n",
        "    \"Leher_bengkak\": 0.7,\n",
        "    \"Mual\": 0.9,\n",
        "    \"Kembung\": 0.3,\n",
        "    \"Lelah\": 0.6,\n",
        "}\n",
        "\n",
        "# Basis pengetahuan pakar untuk tiga penyakit\n",
        "pengetahuan = {\n",
        "    \"Gondongan\": {\n",
        "        \"Demam\": 0.9,\n",
        "        \"Lelah\": 0.8,\n",
        "        \"Leher_bengkak\": 0.9,\n",
        "        \"Mulut_kering\": 0.4\n",
        "    },\n",
        "    \"IBS\": {\n",
        "        \"Sakit_perut\": 0.8,\n",
        "        \"Diare\": 0.6,\n",
        "        \"Kram\": 0.5,\n",
        "        \"Mual\": 0.7,\n",
        "    },\n",
        "    \"GERD\": {\n",
        "        \"Mual\": 0.7,\n",
        "        \"Kembung\": 0.5,\n",
        "        \"Sendawa\": 0.2,\n",
        "        \"Sakit_Tengorokan\": 0.7\n",
        "    }\n",
        "}\n",
        "\n",
        "# Fungsi untuk menghitung nilai certainty factor (CF)\n",
        "def hitung_cf(gejala_user, pengetahuan_pakar):\n",
        "    cf_total = 0\n",
        "    first = True\n",
        "    for gejala, cf_user in gejala_user.items():\n",
        "        if gejala in pengetahuan_pakar:\n",
        "            cf_pakar = pengetahuan_pakar[gejala]\n",
        "            cf = cf_user * cf_pakar\n",
        "            if first:\n",
        "                cf_total = cf\n",
        "                first = False\n",
        "            else:\n",
        "                cf_total = cf_total + cf * (1 - cf_total)\n",
        "    return cf_total\n",
        "\n",
        "# Melakukan diagnosis untuk setiap penyakit berdasarkan gejala\n",
        "for penyakit, data_pakar in pengetahuan.items():\n",
        "    cf_result = hitung_cf(gejala_user, data_pakar)\n",
        "    print(f\"CF diagnosis {penyakit}: {cf_result:.2f}\")"
      ]
    }
  ]
}