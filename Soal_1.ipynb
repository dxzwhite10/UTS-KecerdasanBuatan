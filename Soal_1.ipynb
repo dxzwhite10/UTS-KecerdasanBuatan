{
  "nbformat": 4,
  "nbformat_minor": 0,
  "metadata": {
    "colab": {
      "provenance": [],
      "authorship_tag": "ABX9TyMiIZHOHqdcagWgbvpyh4BM",
      "include_colab_link": true
    },
    "kernelspec": {
      "name": "python3",
      "display_name": "Python 3"
    },
    "language_info": {
      "name": "python"
    }
  },
  "cells": [
    {
      "cell_type": "markdown",
      "metadata": {
        "id": "view-in-github",
        "colab_type": "text"
      },
      "source": [
        "<a href=\"https://colab.research.google.com/github/dxzwhite10/UTS-KecerdasanBuatan/blob/main/Soal_1.ipynb\" target=\"_parent\"><img src=\"https://colab.research.google.com/assets/colab-badge.svg\" alt=\"Open In Colab\"/></a>"
      ]
    },
    {
      "cell_type": "code",
      "execution_count": 2,
      "metadata": {
        "colab": {
          "base_uri": "https://localhost:8080/"
        },
        "id": "J-26pR8EUKP5",
        "outputId": "acdc9fd0-564c-4f8a-b385-38b235f184c5"
      },
      "outputs": [
        {
          "output_type": "stream",
          "name": "stdout",
          "text": [
            "Hasil Diagnosis Hama:\n",
            "- Hama Wereng: CF = 0.98\n",
            "- Ulat Grayak: CF = 0.87\n",
            "- Hama Jamur: CF = 0.87\n",
            "- Penggerek Batang: CF = 0.81\n"
          ]
        }
      ],
      "source": [
        "# Gejala dari user (contoh input, bisa diubah sesuai kasus)\n",
        "gejala_user = {\n",
        "    \"daun_menguning\": 0.9,\n",
        "    \"bercak_hitam\": 0.7,\n",
        "    \"daun_berlubang\": 0.8,\n",
        "    \"tanaman_layu\": 0.6\n",
        "}\n",
        "\n",
        "# Basis pengetahuan hama dari pakar (nilai CF pakar)\n",
        "pengetahuan = {\n",
        "    \"Hama_Wereng\": {\n",
        "        \"daun_menguning\": 0.9,\n",
        "        \"tanaman_layu\": 0.8\n",
        "    },\n",
        "    \"Ulat_Grayak\": {\n",
        "        \"daun_berlubang\": 0.9,\n",
        "        \"daun_menguning\": 0.4\n",
        "    },\n",
        "    \"Hama_Jamur\": {\n",
        "        \"bercak_hitam\": 0.95,\n",
        "        \"daun_menguning\": 0.5\n",
        "    },\n",
        "    \"Penggerek_Batang\": {\n",
        "        \"tanaman_layu\": 0.8,\n",
        "        \"daun_menguning\": 0.6\n",
        "    }\n",
        "}\n",
        "\n",
        "# Bobot gejala (skala 1–5)\n",
        "bobot_gejala = {\n",
        "    \"daun_menguning\": 4,\n",
        "    \"bercak_hitam\": 5,\n",
        "    \"daun_berlubang\": 4,\n",
        "    \"tanaman_layu\": 4\n",
        "}\n",
        "\n",
        "# Fungsi perhitungan CF dengan bobot gejala\n",
        "def hitung_cf_weighted(gejala_user, pengetahuan_pakar, bobot):\n",
        "    cf_total = 0\n",
        "    total_bobot = 0\n",
        "    first = True\n",
        "\n",
        "    for gejala, cf_user in gejala_user.items():\n",
        "        if gejala in pengetahuan_pakar and gejala in bobot:\n",
        "            cf_pakar = pengetahuan_pakar[gejala]\n",
        "            bobot_normal = bobot[gejala] / 5  # Normalisasi bobot\n",
        "\n",
        "            cf = cf_user * cf_pakar * bobot_normal\n",
        "\n",
        "            if first:\n",
        "                cf_total = cf\n",
        "                first = False\n",
        "            else:\n",
        "                cf_total = cf_total + cf * (1 - cf_total)\n",
        "\n",
        "            total_bobot += bobot_normal\n",
        "\n",
        "    # Normalisasi akhir\n",
        "    if total_bobot > 0:\n",
        "        jumlah_gejala_valid = len([g for g in gejala_user if g in pengetahuan_pakar])\n",
        "        cf_total = cf_total / total_bobot * jumlah_gejala_valid\n",
        "\n",
        "    return cf_total\n",
        "\n",
        "# Menjalankan diagnosis\n",
        "print(\"Hasil Diagnosis Hama:\")\n",
        "for hama in pengetahuan:\n",
        "    cf_result = hitung_cf_weighted(gejala_user, pengetahuan[hama], bobot_gejala)\n",
        "    print(f\"- {hama.replace('_', ' ')}: CF = {cf_result:.2f}\")\n"
      ]
    }
  ]
}